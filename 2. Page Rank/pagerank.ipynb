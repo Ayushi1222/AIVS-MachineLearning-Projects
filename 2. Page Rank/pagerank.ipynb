{
 "cells": [
  {
   "cell_type": "code",
   "execution_count": 1,
   "metadata": {},
   "outputs": [],
   "source": [
    "import pandas as pd\n",
    "import networkx as nx\n",
    "import numpy as np\n",
    "\n",
    "# Load dataset\n",
    "data = pd.read_csv(r\"D:\\AIVS-Projects\\2. Page Rank\\data.csv\")\n",
    "\n",
    "# Assuming the first column is the person and the rest are the people they found impressive\n",
    "person_column = data.columns[0]\n",
    "other_columns = data.columns[1:]\n",
    "\n",
    "# Create a directed graph\n",
    "G = nx.DiGraph()\n",
    "\n",
    "for _, row in data.iterrows():\n",
    "    person_a = row[person_column]\n",
    "    for person_b in row[other_columns].dropna():\n",
    "        G.add_edge(person_a, person_b)\n"
   ]
  },
  {
   "cell_type": "code",
   "execution_count": 2,
   "metadata": {},
   "outputs": [
    {
     "name": "stdout",
     "output_type": "stream",
     "text": [
      "Top 10 most important persons by Random Walk (PageRank):\n",
      " : 0.014038474314533946\n",
      "2023CSB1091: 0.00976348594322847\n",
      "2023MCB1316: 0.009261824418364106\n",
      "2023CSB1132: 0.008470311652995194\n",
      "2023CSB1162: 0.008449750823022984\n",
      "2023MCB1284: 0.00842087251709934\n",
      "2023CSB1099: 0.008313132115449132\n",
      "2023MCB1302: 0.008292890979355972\n",
      "2023MCB1291: 0.00808687254722459\n",
      "2023CSB1173: 0.008009268977073183\n"
     ]
    }
   ],
   "source": [
    "def random_walk_pagerank(G, alpha=0.85, max_iter=100, tol=1.0e-6):\n",
    "    n = len(G)\n",
    "    pr = {node: 1/n for node in G}  # Initialize the PageRank dictionary\n",
    "\n",
    "    for _ in range(max_iter):\n",
    "        new_pr = {}\n",
    "        for node in G:\n",
    "            rank_sum = sum(pr[neighbor] / len(list(G.neighbors(neighbor))) for neighbor in G.predecessors(node))\n",
    "            new_pr[node] = (1 - alpha) / n + alpha * rank_sum\n",
    "        \n",
    "        # Check for convergence\n",
    "        if max(abs(new_pr[node] - pr[node]) for node in G) < tol:\n",
    "            break\n",
    "        pr = new_pr\n",
    "    \n",
    "    return pr\n",
    "\n",
    "# Get the PageRank of each node\n",
    "pagerank_scores = random_walk_pagerank(G)\n",
    "\n",
    "# Get the top 10 most important persons by PageRank\n",
    "top_10_pagerank = sorted(pagerank_scores.items(), key=lambda x: x[1], reverse=True)[:10]\n",
    "print(\"Top 10 most important persons by Random Walk (PageRank):\")\n",
    "for person, score in top_10_pagerank:\n",
    "    print(f\"{person}: {score}\")\n"
   ]
  },
  {
   "cell_type": "code",
   "execution_count": 3,
   "metadata": {},
   "outputs": [
    {
     "name": "stdout",
     "output_type": "stream",
     "text": [
      "Top 10 most important persons by Equal Points Distribution:\n",
      " : 0.019383857235941528\n",
      "2023CSB1091: 0.014375506147839508\n",
      "2023MCB1316: 0.013625454776504625\n",
      "2023MCB1284: 0.012136203127959043\n",
      "2023CSB1162: 0.01198613197220061\n",
      "2023CSB1132: 0.011949836233072792\n",
      "2023MCB1291: 0.011808131520629083\n",
      "2023MCB1302: 0.011791530481124503\n",
      "2023CSB1100: 0.011477171767540052\n",
      "2023CSB1099: 0.011305517132848723\n"
     ]
    }
   ],
   "source": [
    "def equal_points_distribution(G, max_iter=100, tol=1.0e-6):\n",
    "    n = len(G)\n",
    "    points = {node: 1/n for node in G}  # Initialize points dictionary\n",
    "\n",
    "    for _ in range(max_iter):\n",
    "        new_points = {node: 0 for node in G}\n",
    "        for node in G:\n",
    "            if len(G[node]) == 0:  # Handle sinkholes\n",
    "                for other in G:\n",
    "                    new_points[other] += points[node] / n\n",
    "            else:\n",
    "                distributed_points = points[node] / len(G[node])\n",
    "                for neighbor in G[node]:\n",
    "                    new_points[neighbor] += distributed_points\n",
    "        \n",
    "        # Check for convergence\n",
    "        if max(abs(new_points[node] - points[node]) for node in G) < tol:\n",
    "            break\n",
    "        points = new_points\n",
    "    \n",
    "    return points\n",
    "\n",
    "# Get the points of each node\n",
    "points_scores = equal_points_distribution(G)\n",
    "\n",
    "# Get the top 10 most important persons by Equal Points Distribution\n",
    "top_10_points = sorted(points_scores.items(), key=lambda x: x[1], reverse=True)[:10]\n",
    "print(\"Top 10 most important persons by Equal Points Distribution:\")\n",
    "for person, score in top_10_points:\n",
    "    print(f\"{person}: {score}\")\n"
   ]
  },
  {
   "cell_type": "code",
   "execution_count": null,
   "metadata": {},
   "outputs": [],
   "source": []
  }
 ],
 "metadata": {
  "kernelspec": {
   "display_name": "Python 3",
   "language": "python",
   "name": "python3"
  },
  "language_info": {
   "codemirror_mode": {
    "name": "ipython",
    "version": 3
   },
   "file_extension": ".py",
   "mimetype": "text/x-python",
   "name": "python",
   "nbconvert_exporter": "python",
   "pygments_lexer": "ipython3",
   "version": "3.10.6"
  }
 },
 "nbformat": 4,
 "nbformat_minor": 2
}
